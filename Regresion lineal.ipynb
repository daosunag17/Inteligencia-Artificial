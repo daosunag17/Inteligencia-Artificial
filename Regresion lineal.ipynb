{
 "cells": [
  {
   "cell_type": "code",
   "execution_count": 11,
   "metadata": {},
   "outputs": [],
   "source": [
    "from IPython.display import Image\n",
    "from IPython.core.display import HTML \n",
    "# Tratamiento de datos\n",
    "# ==============================================================================\n",
    "import pandas as pd\n",
    "import numpy as np\n",
    "# Gráficos\n",
    "# ==============================================================================\n",
    "import matplotlib.pyplot as plt\n",
    "from matplotlib import style\n",
    "import seaborn as sns\n",
    "\n",
    "# Preprocesado y modelado\n",
    "# ==============================================================================\n",
    "from scipy.stats import pearsonr\n",
    "from sklearn.linear_model import LinearRegression\n",
    "from sklearn.model_selection import train_test_split\n",
    "from sklearn.metrics import r2_score\n",
    "from sklearn.metrics import mean_squared_error\n",
    "import statsmodels.api as sm\n",
    "import statsmodels.formula.api as smf\n",
    "from sklearn import datasets\n"
   ]
  },
  {
   "cell_type": "markdown",
   "metadata": {},
   "source": [
    "### Daniel Alejandro Osuna Garzón"
   ]
  },
  {
   "cell_type": "markdown",
   "metadata": {},
   "source": [
    "# Regresión lineal "
   ]
  },
  {
   "cell_type": "markdown",
   "metadata": {},
   "source": [
    "La regresión lineal es el modelo lineal más simple pero no menos importante, este sirve para medir el grado de relación que tienen dos o más variables generalmente con el objetivo de poder estimar los valores una variable que recibe el nombre de variable respuesta o variable dependiente.\n",
    "\n",
    "Por ejemplo, para una empresa pude interesarle saber cuánto serán sus ventas si invierte cierta cantidad de dinero en publicidad y para esto puede utilizar la información de meses anteriores para así entrenar un modelo de regresión y saber cuánto debería invertir el siguiente mes  \n",
    "\n",
    "A pesar de que cuando hablamos de modelo de regresión lineal estamos haciendo referencia a un modelo matemático $Y=\\beta_0 +\\beta_1X+\\varepsilon$ no necesariamente las variables tienen que ser cuantitativas, existen modelos que admiten tener variables de tipo categórico tanto en las variables respuesta como en las explicativas\n"
   ]
  },
  {
   "cell_type": "markdown",
   "metadata": {},
   "source": [
    "## Historia"
   ]
  },
  {
   "cell_type": "markdown",
   "metadata": {},
   "source": [
    "El término de Regresión fue acuñado por Francis Galton en el siglo XIX, sin embargo, los primeros pasos en regresión fueron dados por Legendre en 1805 y unos años más tarde por Gauss, el primer método que se aplicó fue el de estimación por mínimos cuadrados, hoy en día a pesar de que existe una gran variedad de métodos de estimación, el de mínimos cuadrados sigue siendo ampliamente usado.\n",
    "\n",
    "El análisis de regresión es algo que día a día se sigue desarrollando y a pesar de que cada vez existen nuevas metodologías, el modelo de regresión que sirve para el estudio que se realizando depende únicamente de los datos, es decir uno no ajusta los datos a los modelos, sino que se debe encontrar el modelo que mejor se ajuste a los datos.\n"
   ]
  },
  {
   "cell_type": "code",
   "execution_count": 8,
   "metadata": {},
   "outputs": [
    {
     "data": {
      "text/html": [
       "<img src=\"https://annalyzin.files.wordpress.com/2016/01/regression-residual-simulation-tutorial2.gif?w=561&h=842\"/>"
      ],
      "text/plain": [
       "<IPython.core.display.Image object>"
      ]
     },
     "execution_count": 8,
     "metadata": {},
     "output_type": "execute_result"
    }
   ],
   "source": [
    "Image(url= \"https://annalyzin.files.wordpress.com/2016/01/regression-residual-simulation-tutorial2.gif?w=561&h=842\")"
   ]
  },
  {
   "cell_type": "markdown",
   "metadata": {},
   "source": [
    "### Ejemplo\n",
    "\n",
    "\n",
    "En el siguiente ejmplo se usara la data Iris para predecir el tamaño del petalo apartir del tamaño del sepalo.\n",
    "\n",
    "Para esto se plantea el siguiente modelo de regresion lineal:\n",
    "$$ Y=\\beta_0 +\\beta_1X_1+\\varepsilon $$\n",
    "\n",
    "\n",
    "donde $Y$ representa el tamaño del petalo y $X_1$ el tamaño del sepalo\n"
   ]
  },
  {
   "cell_type": "code",
   "execution_count": 61,
   "metadata": {},
   "outputs": [
    {
     "data": {
      "text/html": [
       "<div>\n",
       "<style scoped>\n",
       "    .dataframe tbody tr th:only-of-type {\n",
       "        vertical-align: middle;\n",
       "    }\n",
       "\n",
       "    .dataframe tbody tr th {\n",
       "        vertical-align: top;\n",
       "    }\n",
       "\n",
       "    .dataframe thead th {\n",
       "        text-align: right;\n",
       "    }\n",
       "</style>\n",
       "<table border=\"1\" class=\"dataframe\">\n",
       "  <thead>\n",
       "    <tr style=\"text-align: right;\">\n",
       "      <th></th>\n",
       "      <th>sepal_length</th>\n",
       "      <th>sepal_width</th>\n",
       "      <th>petal_length</th>\n",
       "      <th>petal_width</th>\n",
       "      <th>species</th>\n",
       "      <th>species_name</th>\n",
       "    </tr>\n",
       "  </thead>\n",
       "  <tbody>\n",
       "    <tr>\n",
       "      <th>0</th>\n",
       "      <td>5.1</td>\n",
       "      <td>3.5</td>\n",
       "      <td>1.4</td>\n",
       "      <td>0.2</td>\n",
       "      <td>0</td>\n",
       "      <td>Setosa</td>\n",
       "    </tr>\n",
       "    <tr>\n",
       "      <th>1</th>\n",
       "      <td>4.9</td>\n",
       "      <td>3.0</td>\n",
       "      <td>1.4</td>\n",
       "      <td>0.2</td>\n",
       "      <td>0</td>\n",
       "      <td>Setosa</td>\n",
       "    </tr>\n",
       "    <tr>\n",
       "      <th>2</th>\n",
       "      <td>4.7</td>\n",
       "      <td>3.2</td>\n",
       "      <td>1.3</td>\n",
       "      <td>0.2</td>\n",
       "      <td>0</td>\n",
       "      <td>Setosa</td>\n",
       "    </tr>\n",
       "    <tr>\n",
       "      <th>3</th>\n",
       "      <td>4.6</td>\n",
       "      <td>3.1</td>\n",
       "      <td>1.5</td>\n",
       "      <td>0.2</td>\n",
       "      <td>0</td>\n",
       "      <td>Setosa</td>\n",
       "    </tr>\n",
       "    <tr>\n",
       "      <th>4</th>\n",
       "      <td>5.0</td>\n",
       "      <td>3.6</td>\n",
       "      <td>1.4</td>\n",
       "      <td>0.2</td>\n",
       "      <td>0</td>\n",
       "      <td>Setosa</td>\n",
       "    </tr>\n",
       "  </tbody>\n",
       "</table>\n",
       "</div>"
      ],
      "text/plain": [
       "   sepal_length  sepal_width  petal_length  petal_width  species species_name\n",
       "0           5.1          3.5           1.4          0.2        0       Setosa\n",
       "1           4.9          3.0           1.4          0.2        0       Setosa\n",
       "2           4.7          3.2           1.3          0.2        0       Setosa\n",
       "3           4.6          3.1           1.5          0.2        0       Setosa\n",
       "4           5.0          3.6           1.4          0.2        0       Setosa"
      ]
     },
     "execution_count": 61,
     "metadata": {},
     "output_type": "execute_result"
    }
   ],
   "source": [
    "\n",
    "# carga Iris dataset\n",
    "iris = datasets.load_iris()\n",
    "# Arreglo dataset\n",
    "iris_data = pd.DataFrame(data=iris.data, columns=['sepal_length', 'sepal_width', 'petal_length', 'petal_width'])\n",
    "iris_target = pd.DataFrame(data=iris.target, columns=['species'])\n",
    "iris_df = pd.concat([iris_data, iris_target], axis=1)\n",
    "# Especies\n",
    "iris_df['species_name'] = np.where(iris_df['species'] == 0, 'Setosa', None)\n",
    "iris_df['species_name'] = np.where(iris_df['species'] == 1, 'Versicolor', iris_df['species_name'])\n",
    "iris_df['species_name'] = np.where(iris_df['species'] == 2, 'Virginica', iris_df['species_name'])\n",
    "iris_df.head()"
   ]
  },
  {
   "cell_type": "code",
   "execution_count": 77,
   "metadata": {},
   "outputs": [
    {
     "data": {
      "image/png": "[encoded data removed]",
      "text/plain": [
       "<Figure size 432x288 with 1 Axes>"
      ]
     },
     "metadata": {
      "needs_background": "light"
     },
     "output_type": "display_data"
    }
   ],
   "source": [
    "X = iris_df['sepal_length']\n",
    "y = iris_df['petal_length']\n",
    "plt.plot(X, y, 'o', color='black');"
   ]
  },
  {
   "cell_type": "code",
   "execution_count": 75,
   "metadata": {},
   "outputs": [
    {
     "data": {
      "image/png": "[encoded data removed]",
      "text/plain": [
       "<Figure size 864x504 with 1 Axes>"
      ]
     },
     "metadata": {
      "needs_background": "light"
     },
     "output_type": "display_data"
    }
   ],
   "source": [
    "# Vizualizar el largo del petalo para todas las especies\n",
    "fig, ax = plt.subplots(figsize=(12, 7))\n",
    "#\n",
    "ax.spines['top'].set_visible(False)\n",
    "ax.spines['right'].set_visible(False)\n",
    "ax.spines['left'].set_visible(False)\n",
    "#\n",
    "ax.yaxis.set_ticks_position('none')\n",
    "# \n",
    "ax.grid(color='grey', axis='y', linestyle='-', linewidth=0.25, alpha=0.5)\n",
    "# Set plot title\n",
    "ax.set_title('Distribution of petal length by species')\n",
    "# Ajuste de los nombres de las  especies\n",
    "dataset = [setosa_petal_length, versicolor_petal_length, virginica_petal_length]\n",
    "labels = iris_df['species_name'].unique()\n",
    "ax.boxplot(dataset, labels=labels)\n",
    "plt.show()"
   ]
  },
  {
   "cell_type": "code",
   "execution_count": 69,
   "metadata": {},
   "outputs": [
    {
     "name": "stdout",
     "output_type": "stream",
     "text": [
      "\n",
      "\n",
      "Setosa estadisticas descriptivas\n",
      "Min: 1.0\n",
      "Mean: 1.46\n",
      "Max: 1.9\n",
      "Median: 1.5\n",
      "Setosa estadisticas descriptivas\n",
      "\n",
      "\n",
      "Versicolor estadisticas descriptivas\n",
      "Min: 3.0\n",
      "Mean: 4.26\n",
      "Max: 5.1\n",
      "Median: 4.35\n",
      "Setosa estadisticas descriptivas\n",
      "\n",
      "\n",
      "Virginica estadisticas descriptivas\n",
      "Min: 4.5\n",
      "Mean: 5.55\n",
      "Max: 6.9\n",
      "Median: 5.55\n",
      "Setosa estadisticas descriptivas\n"
     ]
    }
   ],
   "source": [
    "def get_summary_statistics(dataset):\n",
    "    \n",
    "    mean = np.round(np.mean(dataset), 2)\n",
    "    median = np.round(np.median(dataset), 2)\n",
    "    min_value = np.round(dataset.min(), 2)\n",
    "    max_value = np.round(dataset.max(), 2)\n",
    "\n",
    "    \n",
    "   \n",
    "    print('Min: %s' % min_value)\n",
    "    print('Mean: %s' % mean)\n",
    "    print('Max: %s' % max_value)\n",
    "    print('Median: %s' % median)\n",
    "    print('Setosa estadisticas descriptivas')\n",
    "print('\\n\\nSetosa estadisticas descriptivas')\n",
    "get_summary_statistics(setosa_petal_length)\n",
    "print('\\n\\nVersicolor estadisticas descriptivas')\n",
    "get_summary_statistics(versicolor_petal_length)\n",
    "print('\\n\\nVirginica estadisticas descriptivas')\n",
    "get_summary_statistics(virginica_petal_length)\n"
   ]
  },
  {
   "cell_type": "code",
   "execution_count": 74,
   "metadata": {},
   "outputs": [],
   "source": [
    "# División de los datos en train y test\n",
    "# ==============================================================================\n",
    "\n",
    "X_train, X_test, y_train, y_test = train_test_split(\n",
    "                                        X.values.reshape(-1,1),\n",
    "                                        y.values.reshape(-1,1),\n",
    "                                        train_size   = 0.8,\n",
    "                                        random_state = 1234,\n",
    "                                        shuffle      = True\n",
    "                                    )"
   ]
  },
  {
   "cell_type": "code",
   "execution_count": 71,
   "metadata": {},
   "outputs": [
    {
     "name": "stdout",
     "output_type": "stream",
     "text": [
      "                            OLS Regression Results                            \n",
      "==============================================================================\n",
      "Dep. Variable:                      y   R-squared:                       0.734\n",
      "Model:                            OLS   Adj. R-squared:                  0.731\n",
      "Method:                 Least Squares   F-statistic:                     324.9\n",
      "Date:                Mon, 22 Mar 2021   Prob (F-statistic):           1.09e-35\n",
      "Time:                        21:50:40   Log-Likelihood:                -158.67\n",
      "No. Observations:                 120   AIC:                             321.3\n",
      "Df Residuals:                     118   BIC:                             326.9\n",
      "Df Model:                           1                                         \n",
      "Covariance Type:            nonrobust                                         \n",
      "==============================================================================\n",
      "                 coef    std err          t      P>|t|      [0.025      0.975]\n",
      "------------------------------------------------------------------------------\n",
      "const         -7.0432      0.603    -11.672      0.000      -8.238      -5.848\n",
      "x1             1.8469      0.102     18.026      0.000       1.644       2.050\n",
      "==============================================================================\n",
      "Omnibus:                        0.559   Durbin-Watson:                   1.920\n",
      "Prob(Omnibus):                  0.756   Jarque-Bera (JB):                0.699\n",
      "Skew:                          -0.092   Prob(JB):                        0.705\n",
      "Kurtosis:                       2.674   Cond. No.                         43.7\n",
      "==============================================================================\n",
      "\n",
      "Warnings:\n",
      "[1] Standard Errors assume that the covariance matrix of the errors is correctly specified.\n"
     ]
    }
   ],
   "source": [
    "#Creacion del modelo\n",
    "X_train = sm.add_constant(X_train, prepend=True)\n",
    "modelo = sm.OLS(endog=y_train, exog=X_train,)\n",
    "modelo = modelo.fit()\n",
    "print(modelo.summary())"
   ]
  },
  {
   "cell_type": "code",
   "execution_count": 73,
   "metadata": {},
   "outputs": [
    {
     "data": {
      "image/png": "[encoded data removed]",
      "text/plain": [
       "<Figure size 432x276.48 with 1 Axes>"
      ]
     },
     "metadata": {
      "needs_background": "light"
     },
     "output_type": "display_data"
    }
   ],
   "source": [
    "# Predicciones con intervalo de confianza del 95%\n",
    "# ==============================================================================\n",
    "predicciones = modelo.get_prediction(exog = X_train).summary_frame(alpha=0.05)\n",
    "predicciones['x'] = X_train[:, 1]\n",
    "predicciones['y'] = y_train\n",
    "predicciones = predicciones.sort_values('x')\n",
    "\n",
    "# Gráfico del modelo\n",
    "# ==============================================================================\n",
    "fig, ax = plt.subplots(figsize=(6, 3.84))\n",
    "\n",
    "ax.scatter(predicciones['x'], predicciones['y'], marker='o', color = \"gray\")\n",
    "ax.plot(predicciones['x'], predicciones[\"mean\"], linestyle='-', label=\"OLS\")\n",
    "ax.plot(predicciones['x'], predicciones[\"mean_ci_lower\"], linestyle='--', color='red', label=\"95% CI\")\n",
    "ax.plot(predicciones['x'], predicciones[\"mean_ci_upper\"], linestyle='--', color='red')\n",
    "ax.fill_between(predicciones['x'], predicciones[\"mean_ci_lower\"], predicciones[\"mean_ci_upper\"], alpha=0.1)\n",
    "ax.legend();"
   ]
  },
  {
   "cell_type": "markdown",
   "metadata": {},
   "source": [
    "# Conclusiones\n",
    "1. El modelo presenta un ajuste considerablemente bueno pues el $R2$ ajustado es mayor de 0.7, adicionalmente se observa que tanto el interceprto como el tamaño del sepalo son significativos en el modelo.\n",
    "2. Seria interesante incluir en el modelo la variable de3 especie y con esto lograr un ajuste mucho mejor"
   ]
  },
  {
   "cell_type": "markdown",
   "metadata": {},
   "source": [
    "#  Referencias\n",
    "1.  [wikipedia](https://es.wikipedia.org/wiki/An%C3%A1lisis_de_la_regresi%C3%B3n)\n",
    "2. [Gráficos ](https://towardsdatascience.com/create-and-customize-boxplots-with-pythons-matplotlib-to-get-lots-of-insights-from-your-data-d561c9883643)\n",
    "3. [Modelo ](https://www.cienciadedatos.net/documentos/py10-regresion-lineal-python.html)\n"
   ]
  },
  {
   "cell_type": "code",
   "execution_count": null,
   "metadata": {},
   "outputs": [],
   "source": []
  }
 ],
 "metadata": {
  "kernelspec": {
   "display_name": "Python 3",
   "language": "python",
   "name": "python3"
  },
  "language_info": {
   "codemirror_mode": {
    "name": "ipython",
    "version": 3
   },
   "file_extension": ".py",
   "mimetype": "text/x-python",
   "name": "python",
   "nbconvert_exporter": "python",
   "pygments_lexer": "ipython3",
   "version": "3.8.3"
  }
 },
 "nbformat": 4,
 "nbformat_minor": 4
}
